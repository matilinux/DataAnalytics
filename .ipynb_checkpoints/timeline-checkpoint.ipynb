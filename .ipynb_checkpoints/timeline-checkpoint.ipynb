{
 "cells": [
  {
   "cell_type": "code",
   "execution_count": 1,
   "metadata": {},
   "outputs": [],
   "source": [
    "import pandas as pd\n",
    "import numpy as np\n",
    "import matplotlib.pyplot as plt\n",
    "%matplotlib inline\n",
    "plt.style.use('seaborn-whitegrid')\n",
    "import plotly\n",
    "import plotly.plotly as py\n",
    "import plotly.graph_objs as go\n",
    "from datetime import datetime\n",
    "import pandas as pd\n",
    "plotly.tools.set_credentials_file(username='matiplotly', api_key='0cMZ0jwPT00AfSrq5XZh')"
   ]
  },
  {
   "cell_type": "code",
   "execution_count": 2,
   "metadata": {},
   "outputs": [
    {
     "name": "stderr",
     "output_type": "stream",
     "text": [
      "/home/matias/anaconda3/lib/python3.7/site-packages/ipykernel_launcher.py:5: ParserWarning:\n",
      "\n",
      "Falling back to the 'python' engine because the 'c' engine does not support regex separators (separators > 1 char and different from '\\s+' are interpreted as regex); you can avoid this warning by specifying engine='python'.\n",
      "\n"
     ]
    }
   ],
   "source": [
    "# source: https://wallethub.com/edu/historical-credit-card-interest-rates/25577/\n",
    "visa = pd.read_csv('excel/visa.csv')\n",
    "mcard = pd.read_csv('excel/mastercard.csv')\n",
    "#sep='\\s*,\\s*' is for taking care of spaces in column-names\n",
    "rate = pd.read_csv('excel/interestmargin.csv',sep='\\s*,\\s*')\n",
    "\n",
    "visa.index = pd.to_datetime(visa['date'])\n",
    "mcard.index = pd.to_datetime(mcard['date'])"
   ]
  },
  {
   "cell_type": "code",
   "execution_count": 3,
   "metadata": {},
   "outputs": [
    {
     "data": {
      "text/html": [
       "<div>\n",
       "<style scoped>\n",
       "    .dataframe tbody tr th:only-of-type {\n",
       "        vertical-align: middle;\n",
       "    }\n",
       "\n",
       "    .dataframe tbody tr th {\n",
       "        vertical-align: top;\n",
       "    }\n",
       "\n",
       "    .dataframe thead th {\n",
       "        text-align: right;\n",
       "    }\n",
       "</style>\n",
       "<table border=\"1\" class=\"dataframe\">\n",
       "  <thead>\n",
       "    <tr style=\"text-align: right;\">\n",
       "      <th></th>\n",
       "      <th>date</th>\n",
       "      <th>open</th>\n",
       "      <th>high</th>\n",
       "      <th>low</th>\n",
       "      <th>close</th>\n",
       "      <th>volume</th>\n",
       "    </tr>\n",
       "    <tr>\n",
       "      <th>date</th>\n",
       "      <th></th>\n",
       "      <th></th>\n",
       "      <th></th>\n",
       "      <th></th>\n",
       "      <th></th>\n",
       "      <th></th>\n",
       "    </tr>\n",
       "  </thead>\n",
       "  <tbody>\n",
       "    <tr>\n",
       "      <th>2008-03-19</th>\n",
       "      <td>2008-03-19</td>\n",
       "      <td>14.8750</td>\n",
       "      <td>17.2500</td>\n",
       "      <td>13.7500</td>\n",
       "      <td>14.1250</td>\n",
       "      <td>708486000</td>\n",
       "    </tr>\n",
       "    <tr>\n",
       "      <th>2008-03-20</th>\n",
       "      <td>2008-03-20</td>\n",
       "      <td>14.6175</td>\n",
       "      <td>16.2500</td>\n",
       "      <td>14.3750</td>\n",
       "      <td>16.0875</td>\n",
       "      <td>198985200</td>\n",
       "    </tr>\n",
       "    <tr>\n",
       "      <th>2008-03-24</th>\n",
       "      <td>2008-03-24</td>\n",
       "      <td>16.8100</td>\n",
       "      <td>16.9250</td>\n",
       "      <td>14.7500</td>\n",
       "      <td>14.9325</td>\n",
       "      <td>149566400</td>\n",
       "    </tr>\n",
       "    <tr>\n",
       "      <th>2008-03-25</th>\n",
       "      <td>2008-03-25</td>\n",
       "      <td>15.1575</td>\n",
       "      <td>16.0625</td>\n",
       "      <td>14.9550</td>\n",
       "      <td>15.8125</td>\n",
       "      <td>87092000</td>\n",
       "    </tr>\n",
       "    <tr>\n",
       "      <th>2008-03-26</th>\n",
       "      <td>2008-03-26</td>\n",
       "      <td>15.6250</td>\n",
       "      <td>16.1200</td>\n",
       "      <td>15.3925</td>\n",
       "      <td>15.9900</td>\n",
       "      <td>43111600</td>\n",
       "    </tr>\n",
       "  </tbody>\n",
       "</table>\n",
       "</div>"
      ],
      "text/plain": [
       "                  date     open     high      low    close     volume\n",
       "date                                                                 \n",
       "2008-03-19  2008-03-19  14.8750  17.2500  13.7500  14.1250  708486000\n",
       "2008-03-20  2008-03-20  14.6175  16.2500  14.3750  16.0875  198985200\n",
       "2008-03-24  2008-03-24  16.8100  16.9250  14.7500  14.9325  149566400\n",
       "2008-03-25  2008-03-25  15.1575  16.0625  14.9550  15.8125   87092000\n",
       "2008-03-26  2008-03-26  15.6250  16.1200  15.3925  15.9900   43111600"
      ]
     },
     "execution_count": 3,
     "metadata": {},
     "output_type": "execute_result"
    }
   ],
   "source": [
    "visa.head()"
   ]
  },
  {
   "cell_type": "code",
   "execution_count": 4,
   "metadata": {},
   "outputs": [
    {
     "data": {
      "text/html": [
       "<div>\n",
       "<style scoped>\n",
       "    .dataframe tbody tr th:only-of-type {\n",
       "        vertical-align: middle;\n",
       "    }\n",
       "\n",
       "    .dataframe tbody tr th {\n",
       "        vertical-align: top;\n",
       "    }\n",
       "\n",
       "    .dataframe thead th {\n",
       "        text-align: right;\n",
       "    }\n",
       "</style>\n",
       "<table border=\"1\" class=\"dataframe\">\n",
       "  <thead>\n",
       "    <tr style=\"text-align: right;\">\n",
       "      <th></th>\n",
       "      <th>date</th>\n",
       "      <th>open</th>\n",
       "      <th>high</th>\n",
       "      <th>low</th>\n",
       "      <th>close</th>\n",
       "      <th>volume</th>\n",
       "    </tr>\n",
       "    <tr>\n",
       "      <th>date</th>\n",
       "      <th></th>\n",
       "      <th></th>\n",
       "      <th></th>\n",
       "      <th></th>\n",
       "      <th></th>\n",
       "      <th></th>\n",
       "    </tr>\n",
       "  </thead>\n",
       "  <tbody>\n",
       "    <tr>\n",
       "      <th>2006-05-25</th>\n",
       "      <td>2006-05-25</td>\n",
       "      <td>4.030</td>\n",
       "      <td>4.720</td>\n",
       "      <td>4.020</td>\n",
       "      <td>4.600</td>\n",
       "      <td>395343000</td>\n",
       "    </tr>\n",
       "    <tr>\n",
       "      <th>2006-05-26</th>\n",
       "      <td>2006-05-26</td>\n",
       "      <td>4.631</td>\n",
       "      <td>4.674</td>\n",
       "      <td>4.411</td>\n",
       "      <td>4.493</td>\n",
       "      <td>103044000</td>\n",
       "    </tr>\n",
       "    <tr>\n",
       "      <th>2006-05-30</th>\n",
       "      <td>2006-05-30</td>\n",
       "      <td>4.497</td>\n",
       "      <td>4.498</td>\n",
       "      <td>4.285</td>\n",
       "      <td>4.400</td>\n",
       "      <td>49898000</td>\n",
       "    </tr>\n",
       "    <tr>\n",
       "      <th>2006-05-31</th>\n",
       "      <td>2006-05-31</td>\n",
       "      <td>4.435</td>\n",
       "      <td>4.536</td>\n",
       "      <td>4.435</td>\n",
       "      <td>4.494</td>\n",
       "      <td>30002000</td>\n",
       "    </tr>\n",
       "    <tr>\n",
       "      <th>2006-06-01</th>\n",
       "      <td>2006-06-01</td>\n",
       "      <td>4.493</td>\n",
       "      <td>4.810</td>\n",
       "      <td>4.490</td>\n",
       "      <td>4.751</td>\n",
       "      <td>62344000</td>\n",
       "    </tr>\n",
       "  </tbody>\n",
       "</table>\n",
       "</div>"
      ],
      "text/plain": [
       "                  date   open   high    low  close     volume\n",
       "date                                                         \n",
       "2006-05-25  2006-05-25  4.030  4.720  4.020  4.600  395343000\n",
       "2006-05-26  2006-05-26  4.631  4.674  4.411  4.493  103044000\n",
       "2006-05-30  2006-05-30  4.497  4.498  4.285  4.400   49898000\n",
       "2006-05-31  2006-05-31  4.435  4.536  4.435  4.494   30002000\n",
       "2006-06-01  2006-06-01  4.493  4.810  4.490  4.751   62344000"
      ]
     },
     "execution_count": 4,
     "metadata": {},
     "output_type": "execute_result"
    }
   ],
   "source": [
    "mcard.head()"
   ]
  },
  {
   "cell_type": "code",
   "execution_count": 5,
   "metadata": {
    "scrolled": false
   },
   "outputs": [
    {
     "data": {
      "text/html": [
       "<div>\n",
       "<style scoped>\n",
       "    .dataframe tbody tr th:only-of-type {\n",
       "        vertical-align: middle;\n",
       "    }\n",
       "\n",
       "    .dataframe tbody tr th {\n",
       "        vertical-align: top;\n",
       "    }\n",
       "\n",
       "    .dataframe thead th {\n",
       "        text-align: right;\n",
       "    }\n",
       "</style>\n",
       "<table border=\"1\" class=\"dataframe\">\n",
       "  <thead>\n",
       "    <tr style=\"text-align: right;\">\n",
       "      <th></th>\n",
       "      <th>Date</th>\n",
       "      <th>Avg. Interest Rate of All Credit Card Accounts</th>\n",
       "      <th>Avg. Assessed Interest Rate of Accounts with Finance Charges</th>\n",
       "      <th>Interest Rate Margin of All Credit Card Accounts</th>\n",
       "      <th>Interest Rate Margin of Accounts with Finance Charges</th>\n",
       "      <th>30+ Credit Card Delinquency Rate</th>\n",
       "      <th>Unemployment Rate</th>\n",
       "      <th>Charge-off Rate</th>\n",
       "    </tr>\n",
       "  </thead>\n",
       "  <tbody>\n",
       "    <tr>\n",
       "      <th>0</th>\n",
       "      <td>Feb:91</td>\n",
       "      <td>18.28%</td>\n",
       "      <td>NaN</td>\n",
       "      <td>9.23%</td>\n",
       "      <td>NaN</td>\n",
       "      <td>5.29%</td>\n",
       "      <td>6.60%</td>\n",
       "      <td>4.18%</td>\n",
       "    </tr>\n",
       "    <tr>\n",
       "      <th>1</th>\n",
       "      <td>May:91</td>\n",
       "      <td>18.22%</td>\n",
       "      <td>NaN</td>\n",
       "      <td>9.72%</td>\n",
       "      <td>NaN</td>\n",
       "      <td>5.32%</td>\n",
       "      <td>6.90%</td>\n",
       "      <td>4.68%</td>\n",
       "    </tr>\n",
       "    <tr>\n",
       "      <th>2</th>\n",
       "      <td>Aug:91</td>\n",
       "      <td>18.25%</td>\n",
       "      <td>NaN</td>\n",
       "      <td>9.75%</td>\n",
       "      <td>NaN</td>\n",
       "      <td>5.41%</td>\n",
       "      <td>6.90%</td>\n",
       "      <td>4.75%</td>\n",
       "    </tr>\n",
       "    <tr>\n",
       "      <th>3</th>\n",
       "      <td>Nov:91</td>\n",
       "      <td>18.20%</td>\n",
       "      <td>NaN</td>\n",
       "      <td>10.62%</td>\n",
       "      <td>NaN</td>\n",
       "      <td>5.30%</td>\n",
       "      <td>7.00%</td>\n",
       "      <td>4.69%</td>\n",
       "    </tr>\n",
       "    <tr>\n",
       "      <th>4</th>\n",
       "      <td>Feb:92</td>\n",
       "      <td>18.10%</td>\n",
       "      <td>NaN</td>\n",
       "      <td>11.60%</td>\n",
       "      <td>NaN</td>\n",
       "      <td>5.31%</td>\n",
       "      <td>7.40%</td>\n",
       "      <td>4.91%</td>\n",
       "    </tr>\n",
       "  </tbody>\n",
       "</table>\n",
       "</div>"
      ],
      "text/plain": [
       "     Date Avg. Interest Rate of All Credit Card Accounts  \\\n",
       "0  Feb:91                                         18.28%   \n",
       "1  May:91                                         18.22%   \n",
       "2  Aug:91                                         18.25%   \n",
       "3  Nov:91                                         18.20%   \n",
       "4  Feb:92                                         18.10%   \n",
       "\n",
       "  Avg. Assessed Interest Rate of Accounts with Finance Charges  \\\n",
       "0                                                NaN             \n",
       "1                                                NaN             \n",
       "2                                                NaN             \n",
       "3                                                NaN             \n",
       "4                                                NaN             \n",
       "\n",
       "  Interest Rate Margin of All Credit Card Accounts  \\\n",
       "0                                            9.23%   \n",
       "1                                            9.72%   \n",
       "2                                            9.75%   \n",
       "3                                           10.62%   \n",
       "4                                           11.60%   \n",
       "\n",
       "  Interest Rate Margin of Accounts with Finance Charges  \\\n",
       "0                                                NaN      \n",
       "1                                                NaN      \n",
       "2                                                NaN      \n",
       "3                                                NaN      \n",
       "4                                                NaN      \n",
       "\n",
       "  30+ Credit Card Delinquency Rate Unemployment Rate Charge-off Rate  \n",
       "0                            5.29%             6.60%           4.18%  \n",
       "1                            5.32%             6.90%           4.68%  \n",
       "2                            5.41%             6.90%           4.75%  \n",
       "3                            5.30%             7.00%           4.69%  \n",
       "4                            5.31%             7.40%           4.91%  "
      ]
     },
     "execution_count": 5,
     "metadata": {},
     "output_type": "execute_result"
    }
   ],
   "source": [
    "rate.head()"
   ]
  },
  {
   "cell_type": "code",
   "execution_count": 6,
   "metadata": {},
   "outputs": [
    {
     "data": {
      "text/html": [
       "<div>\n",
       "<style scoped>\n",
       "    .dataframe tbody tr th:only-of-type {\n",
       "        vertical-align: middle;\n",
       "    }\n",
       "\n",
       "    .dataframe tbody tr th {\n",
       "        vertical-align: top;\n",
       "    }\n",
       "\n",
       "    .dataframe thead th {\n",
       "        text-align: right;\n",
       "    }\n",
       "</style>\n",
       "<table border=\"1\" class=\"dataframe\">\n",
       "  <thead>\n",
       "    <tr style=\"text-align: right;\">\n",
       "      <th></th>\n",
       "      <th>Date</th>\n",
       "      <th>Avg. Interest Rate of All Credit Card Accounts</th>\n",
       "      <th>Avg. Assessed Interest Rate of Accounts with Finance Charges</th>\n",
       "      <th>Interest Rate Margin of All Credit Card Accounts</th>\n",
       "      <th>Interest Rate Margin of Accounts with Finance Charges</th>\n",
       "      <th>30+ Credit Card Delinquency Rate</th>\n",
       "      <th>Unemployment Rate</th>\n",
       "      <th>Charge-off Rate</th>\n",
       "      <th>timestamp</th>\n",
       "    </tr>\n",
       "    <tr>\n",
       "      <th>Date</th>\n",
       "      <th></th>\n",
       "      <th></th>\n",
       "      <th></th>\n",
       "      <th></th>\n",
       "      <th></th>\n",
       "      <th></th>\n",
       "      <th></th>\n",
       "      <th></th>\n",
       "      <th></th>\n",
       "    </tr>\n",
       "  </thead>\n",
       "  <tbody>\n",
       "    <tr>\n",
       "      <th>1991-01-02</th>\n",
       "      <td>1991-01-02</td>\n",
       "      <td>18.28%</td>\n",
       "      <td>NaN</td>\n",
       "      <td>9.23%</td>\n",
       "      <td>NaN</td>\n",
       "      <td>5.29%</td>\n",
       "      <td>6.60%</td>\n",
       "      <td>4.18%</td>\n",
       "      <td>1991-01-02 00:00:00.000000000</td>\n",
       "    </tr>\n",
       "    <tr>\n",
       "      <th>1991-04-02</th>\n",
       "      <td>1991-04-02</td>\n",
       "      <td>18.22%</td>\n",
       "      <td>NaN</td>\n",
       "      <td>9.72%</td>\n",
       "      <td>NaN</td>\n",
       "      <td>5.32%</td>\n",
       "      <td>6.90%</td>\n",
       "      <td>4.68%</td>\n",
       "      <td>1991-04-02 11:40:11.009174272</td>\n",
       "    </tr>\n",
       "    <tr>\n",
       "      <th>1991-07-01</th>\n",
       "      <td>1991-07-01</td>\n",
       "      <td>18.25%</td>\n",
       "      <td>NaN</td>\n",
       "      <td>9.75%</td>\n",
       "      <td>NaN</td>\n",
       "      <td>5.41%</td>\n",
       "      <td>6.90%</td>\n",
       "      <td>4.75%</td>\n",
       "      <td>1991-07-01 23:20:22.018348672</td>\n",
       "    </tr>\n",
       "    <tr>\n",
       "      <th>1991-09-30</th>\n",
       "      <td>1991-09-30</td>\n",
       "      <td>18.20%</td>\n",
       "      <td>NaN</td>\n",
       "      <td>10.62%</td>\n",
       "      <td>NaN</td>\n",
       "      <td>5.30%</td>\n",
       "      <td>7.00%</td>\n",
       "      <td>4.69%</td>\n",
       "      <td>1991-09-30 11:00:33.027522944</td>\n",
       "    </tr>\n",
       "    <tr>\n",
       "      <th>1991-12-29</th>\n",
       "      <td>1991-12-29</td>\n",
       "      <td>18.10%</td>\n",
       "      <td>NaN</td>\n",
       "      <td>11.60%</td>\n",
       "      <td>NaN</td>\n",
       "      <td>5.31%</td>\n",
       "      <td>7.40%</td>\n",
       "      <td>4.91%</td>\n",
       "      <td>1991-12-29 22:40:44.036697216</td>\n",
       "    </tr>\n",
       "  </tbody>\n",
       "</table>\n",
       "</div>"
      ],
      "text/plain": [
       "                  Date Avg. Interest Rate of All Credit Card Accounts  \\\n",
       "Date                                                                    \n",
       "1991-01-02  1991-01-02                                         18.28%   \n",
       "1991-04-02  1991-04-02                                         18.22%   \n",
       "1991-07-01  1991-07-01                                         18.25%   \n",
       "1991-09-30  1991-09-30                                         18.20%   \n",
       "1991-12-29  1991-12-29                                         18.10%   \n",
       "\n",
       "           Avg. Assessed Interest Rate of Accounts with Finance Charges  \\\n",
       "Date                                                                      \n",
       "1991-01-02                                                NaN             \n",
       "1991-04-02                                                NaN             \n",
       "1991-07-01                                                NaN             \n",
       "1991-09-30                                                NaN             \n",
       "1991-12-29                                                NaN             \n",
       "\n",
       "           Interest Rate Margin of All Credit Card Accounts  \\\n",
       "Date                                                          \n",
       "1991-01-02                                            9.23%   \n",
       "1991-04-02                                            9.72%   \n",
       "1991-07-01                                            9.75%   \n",
       "1991-09-30                                           10.62%   \n",
       "1991-12-29                                           11.60%   \n",
       "\n",
       "           Interest Rate Margin of Accounts with Finance Charges  \\\n",
       "Date                                                               \n",
       "1991-01-02                                                NaN      \n",
       "1991-04-02                                                NaN      \n",
       "1991-07-01                                                NaN      \n",
       "1991-09-30                                                NaN      \n",
       "1991-12-29                                                NaN      \n",
       "\n",
       "           30+ Credit Card Delinquency Rate Unemployment Rate Charge-off Rate  \\\n",
       "Date                                                                            \n",
       "1991-01-02                            5.29%             6.60%           4.18%   \n",
       "1991-04-02                            5.32%             6.90%           4.68%   \n",
       "1991-07-01                            5.41%             6.90%           4.75%   \n",
       "1991-09-30                            5.30%             7.00%           4.69%   \n",
       "1991-12-29                            5.31%             7.40%           4.91%   \n",
       "\n",
       "                               timestamp  \n",
       "Date                                      \n",
       "1991-01-02 1991-01-02 00:00:00.000000000  \n",
       "1991-04-02 1991-04-02 11:40:11.009174272  \n",
       "1991-07-01 1991-07-01 23:20:22.018348672  \n",
       "1991-09-30 1991-09-30 11:00:33.027522944  \n",
       "1991-12-29 1991-12-29 22:40:44.036697216  "
      ]
     },
     "execution_count": 6,
     "metadata": {},
     "output_type": "execute_result"
    }
   ],
   "source": [
    "#create dates\n",
    "rateDate = pd.date_range(start='1/2/1991', end='1/03/2018', periods=110)\n",
    "#convert dates to Pandas-readable dates and make a column for dates\n",
    "rate['timestamp'] = pd.to_datetime(rateDate)\n",
    "#print only date, no time\n",
    "rate['Date'] = rate['timestamp'].dt.date\n",
    "#create index from dates\n",
    "rate.index = pd.to_datetime(rate['Date'])\n",
    "rate.head()"
   ]
  },
  {
   "cell_type": "code",
   "execution_count": 7,
   "metadata": {},
   "outputs": [
    {
     "data": {
      "text/html": [
       "<div>\n",
       "<style scoped>\n",
       "    .dataframe tbody tr th:only-of-type {\n",
       "        vertical-align: middle;\n",
       "    }\n",
       "\n",
       "    .dataframe tbody tr th {\n",
       "        vertical-align: top;\n",
       "    }\n",
       "\n",
       "    .dataframe thead th {\n",
       "        text-align: right;\n",
       "    }\n",
       "</style>\n",
       "<table border=\"1\" class=\"dataframe\">\n",
       "  <thead>\n",
       "    <tr style=\"text-align: right;\">\n",
       "      <th></th>\n",
       "      <th>Avg. Interest Rate of All Credit Card Accounts</th>\n",
       "      <th>Unemployment Rate</th>\n",
       "      <th>Overall Avg. Int.Rate</th>\n",
       "      <th>Unemployment %</th>\n",
       "    </tr>\n",
       "    <tr>\n",
       "      <th>Date</th>\n",
       "      <th></th>\n",
       "      <th></th>\n",
       "      <th></th>\n",
       "      <th></th>\n",
       "    </tr>\n",
       "  </thead>\n",
       "  <tbody>\n",
       "    <tr>\n",
       "      <th>2017-01-06</th>\n",
       "      <td>12.77%</td>\n",
       "      <td>4.30%</td>\n",
       "      <td>12.77</td>\n",
       "      <td>4.30</td>\n",
       "    </tr>\n",
       "    <tr>\n",
       "      <th>2017-04-06</th>\n",
       "      <td>13.08%</td>\n",
       "      <td>4.40%</td>\n",
       "      <td>13.08</td>\n",
       "      <td>4.40</td>\n",
       "    </tr>\n",
       "    <tr>\n",
       "      <th>2017-07-06</th>\n",
       "      <td>13.16%</td>\n",
       "      <td>4.10%</td>\n",
       "      <td>13.16</td>\n",
       "      <td>4.10</td>\n",
       "    </tr>\n",
       "    <tr>\n",
       "      <th>2017-10-04</th>\n",
       "      <td>13.63%</td>\n",
       "      <td>4.10%</td>\n",
       "      <td>13.63</td>\n",
       "      <td>4.10</td>\n",
       "    </tr>\n",
       "    <tr>\n",
       "      <th>2018-01-03</th>\n",
       "      <td>14.14%</td>\n",
       "      <td>3.80%</td>\n",
       "      <td>14.14</td>\n",
       "      <td>3.80</td>\n",
       "    </tr>\n",
       "  </tbody>\n",
       "</table>\n",
       "</div>"
      ],
      "text/plain": [
       "           Avg. Interest Rate of All Credit Card Accounts Unemployment Rate  \\\n",
       "Date                                                                          \n",
       "2017-01-06                                         12.77%             4.30%   \n",
       "2017-04-06                                         13.08%             4.40%   \n",
       "2017-07-06                                         13.16%             4.10%   \n",
       "2017-10-04                                         13.63%             4.10%   \n",
       "2018-01-03                                         14.14%             3.80%   \n",
       "\n",
       "           Overall Avg. Int.Rate Unemployment %  \n",
       "Date                                             \n",
       "2017-01-06                 12.77           4.30  \n",
       "2017-04-06                 13.08           4.40  \n",
       "2017-07-06                 13.16           4.10  \n",
       "2017-10-04                 13.63           4.10  \n",
       "2018-01-03                 14.14           3.80  "
      ]
     },
     "execution_count": 7,
     "metadata": {},
     "output_type": "execute_result"
    }
   ],
   "source": [
    "#create a DF from cloumn of interests\n",
    "rateDf = pd.concat([rate['Avg. Interest Rate of All Credit Card Accounts'], rate['Unemployment Rate']], axis=1)\n",
    "#make percentages readable for plotting, get rid of %-character\n",
    "rateDf['Overall Avg. Int.Rate'] = rateDf['Avg. Interest Rate of All Credit Card Accounts'].str.strip('%')\n",
    "rateDf['Unemployment %'] = rateDf['Unemployment Rate'].str.strip('%')\n",
    "rateDf.tail()"
   ]
  },
  {
   "cell_type": "code",
   "execution_count": 8,
   "metadata": {},
   "outputs": [
    {
     "data": {
      "text/plain": [
       "<matplotlib.axes._subplots.AxesSubplot at 0x7f0272e36a20>"
      ]
     },
     "execution_count": 8,
     "metadata": {},
     "output_type": "execute_result"
    },
    {
     "data": {
      "image/png": "[encoded data removed]",
      "text/plain": [
       "<Figure size 432x288 with 1 Axes>"
      ]
     },
     "metadata": {
      "needs_background": "light"
     },
     "output_type": "display_data"
    }
   ],
   "source": [
    "#convert strings to into floats for plotting\n",
    "rateDf['Overall Avg. Int.Rate'] = rateDf['Overall Avg. Int.Rate'].astype(float)\n",
    "rateDf['Unemployment %'] = rateDf['Unemployment %'].astype(float)\n",
    "\n",
    "rateDf['Unemployment %'].plot()"
   ]
  },
  {
   "cell_type": "code",
   "execution_count": 9,
   "metadata": {},
   "outputs": [
    {
     "data": {
      "text/plain": [
       "<matplotlib.axes._subplots.AxesSubplot at 0x7f0272b523c8>"
      ]
     },
     "execution_count": 9,
     "metadata": {},
     "output_type": "execute_result"
    },
    {
     "data": {
      "image/png": "[encoded data removed]",
      "text/plain": [
       "<Figure size 432x288 with 1 Axes>"
      ]
     },
     "metadata": {
      "needs_background": "light"
     },
     "output_type": "display_data"
    }
   ],
   "source": [
    "rateDf['Overall Avg. Int.Rate']['2008-02':].plot()"
   ]
  },
  {
   "cell_type": "code",
   "execution_count": 10,
   "metadata": {},
   "outputs": [
    {
     "data": {
      "text/plain": [
       "[Text(1, 0, '11 %'),\n",
       " Text(1, 0, '12 %'),\n",
       " Text(1, 0, '13 %'),\n",
       " Text(1, 0, '14 %'),\n",
       " Text(1, 0, '15 %'),\n",
       " Text(1, 0, '16 %'),\n",
       " Text(1, 0, '17 %'),\n",
       " Text(1, 0, '18 %'),\n",
       " Text(1, 0, '19 %')]"
      ]
     },
     "execution_count": 10,
     "metadata": {},
     "output_type": "execute_result"
    },
    {
     "data": {
      "image/png": "[encoded data removed]",
      "text/plain": [
       "<Figure size 720x432 with 2 Axes>"
      ]
     },
     "metadata": {},
     "output_type": "display_data"
    }
   ],
   "source": [
    "fig1, ax = plt.subplots(figsize = (10, 6))\n",
    "\n",
    "color = 'C0'\n",
    "ax.set_ylabel('Unemployment In Percentage', color=color)\n",
    "ax.plot(rateDf['Unemployment %'], color=color)\n",
    "ax.tick_params(axis='y', labelcolor=color, grid_color=color)\n",
    "vals = ax.get_yticks()\n",
    "ax.set_yticklabels(['{:.0f} %'.format(y) for y in vals])\n",
    "\n",
    "ax1 = ax.twinx()\n",
    "\n",
    "color = 'C1'\n",
    "ax1.set_ylabel('Avg. Interest Rate', color=color)\n",
    "ax1.plot(rateDf['Overall Avg. Int.Rate'], color=color)\n",
    "ax1.tick_params(axis='y', labelcolor=color, grid_color=color)\n",
    "vals = ax1.get_yticks()\n",
    "ax1.set_yticklabels(['{:.0f} %'.format(y) for y in vals])"
   ]
  },
  {
   "cell_type": "code",
   "execution_count": 11,
   "metadata": {},
   "outputs": [
    {
     "data": {
      "text/plain": [
       "<function matplotlib.pyplot.show(*args, **kw)>"
      ]
     },
     "execution_count": 11,
     "metadata": {},
     "output_type": "execute_result"
    },
    {
     "data": {
      "image/png": "[encoded data removed]",
      "text/plain": [
       "<Figure size 432x288 with 1 Axes>"
      ]
     },
     "metadata": {
      "needs_background": "light"
     },
     "output_type": "display_data"
    }
   ],
   "source": [
    "ax2 = plt.scatter(rateDf['Overall Avg. Int.Rate'],rateDf['Unemployment %'])\n",
    "plt.show"
   ]
  },
  {
   "cell_type": "code",
   "execution_count": 12,
   "metadata": {
    "scrolled": true
   },
   "outputs": [
    {
     "data": {
      "text/plain": [
       "<matplotlib.axes._subplots.AxesSubplot at 0x7f0272aaea58>"
      ]
     },
     "execution_count": 12,
     "metadata": {},
     "output_type": "execute_result"
    },
    {
     "data": {
      "image/png": "[encoded data removed]",
      "text/plain": [
       "<Figure size 432x288 with 1 Axes>"
      ]
     },
     "metadata": {
      "needs_background": "light"
     },
     "output_type": "display_data"
    }
   ],
   "source": [
    "visa['close'].plot()"
   ]
  },
  {
   "cell_type": "code",
   "execution_count": 13,
   "metadata": {},
   "outputs": [
    {
     "data": {
      "text/plain": [
       "<matplotlib.axes._subplots.AxesSubplot at 0x7f02729504a8>"
      ]
     },
     "execution_count": 13,
     "metadata": {},
     "output_type": "execute_result"
    },
    {
     "data": {
      "image/png": "[encoded data removed]",
      "text/plain": [
       "<Figure size 432x288 with 1 Axes>"
      ]
     },
     "metadata": {
      "needs_background": "light"
     },
     "output_type": "display_data"
    }
   ],
   "source": [
    "mcard['close'].plot()"
   ]
  },
  {
   "cell_type": "code",
   "execution_count": 14,
   "metadata": {},
   "outputs": [
    {
     "data": {
      "text/plain": [
       "<matplotlib.axes._subplots.AxesSubplot at 0x7f02728dc3c8>"
      ]
     },
     "execution_count": 14,
     "metadata": {},
     "output_type": "execute_result"
    },
    {
     "data": {
      "image/png": "[encoded data removed]",
      "text/plain": [
       "<Figure size 720x432 with 2 Axes>"
      ]
     },
     "metadata": {},
     "output_type": "display_data"
    }
   ],
   "source": [
    "fig1, ax2 = plt.subplots(figsize = (10, 6))\n",
    "\n",
    "color = 'C0'\n",
    "ax2.set_ylabel('visa', color=color)\n",
    "ax2.plot(visa['close'], color=color)\n",
    "ax2.tick_params(axis='y', labelcolor=color, grid_color=color)\n",
    "\n",
    "ax3 = ax2.twinx()\n",
    "\n",
    "color = 'C1'\n",
    "ax3.set_ylabel('mcard', color=color)\n",
    "ax3.plot(mcard['close'], color=color)\n",
    "ax3.tick_params(axis='y', labelcolor=color, grid_color=color)\n",
    "\n",
    "visa['close'].rolling(365).mean().plot()\n",
    "mcard['close'].rolling(365).mean().plot()"
   ]
  },
  {
   "cell_type": "code",
   "execution_count": 15,
   "metadata": {},
   "outputs": [
    {
     "data": {
      "text/plain": [
       "date\n",
       "2019-03-18   -0.003216\n",
       "2019-03-19   -0.002388\n",
       "2019-03-20   -0.005434\n",
       "2019-03-21    0.013333\n",
       "2019-03-22   -0.017522\n",
       "Name: visaChange, dtype: float64"
      ]
     },
     "execution_count": 15,
     "metadata": {},
     "output_type": "execute_result"
    }
   ],
   "source": [
    "visa['visaChange'] = visa['close'].pct_change()\n",
    "mcard['mcardChange'] = mcard['close'].pct_change()\n",
    "visa['visaChange'].tail()"
   ]
  },
  {
   "cell_type": "code",
   "execution_count": 16,
   "metadata": {},
   "outputs": [
    {
     "data": {
      "text/html": [
       "<div>\n",
       "<style scoped>\n",
       "    .dataframe tbody tr th:only-of-type {\n",
       "        vertical-align: middle;\n",
       "    }\n",
       "\n",
       "    .dataframe tbody tr th {\n",
       "        vertical-align: top;\n",
       "    }\n",
       "\n",
       "    .dataframe thead th {\n",
       "        text-align: right;\n",
       "    }\n",
       "</style>\n",
       "<table border=\"1\" class=\"dataframe\">\n",
       "  <thead>\n",
       "    <tr style=\"text-align: right;\">\n",
       "      <th></th>\n",
       "      <th>visaChange</th>\n",
       "      <th>mcardChange</th>\n",
       "    </tr>\n",
       "    <tr>\n",
       "      <th>date</th>\n",
       "      <th></th>\n",
       "      <th></th>\n",
       "    </tr>\n",
       "  </thead>\n",
       "  <tbody>\n",
       "    <tr>\n",
       "      <th>2019-03-18</th>\n",
       "      <td>-0.003216</td>\n",
       "      <td>-0.003374</td>\n",
       "    </tr>\n",
       "    <tr>\n",
       "      <th>2019-03-19</th>\n",
       "      <td>-0.002388</td>\n",
       "      <td>0.002691</td>\n",
       "    </tr>\n",
       "    <tr>\n",
       "      <th>2019-03-20</th>\n",
       "      <td>-0.005434</td>\n",
       "      <td>-0.004848</td>\n",
       "    </tr>\n",
       "    <tr>\n",
       "      <th>2019-03-21</th>\n",
       "      <td>0.013333</td>\n",
       "      <td>0.026012</td>\n",
       "    </tr>\n",
       "    <tr>\n",
       "      <th>2019-03-22</th>\n",
       "      <td>-0.017522</td>\n",
       "      <td>-0.021664</td>\n",
       "    </tr>\n",
       "  </tbody>\n",
       "</table>\n",
       "</div>"
      ],
      "text/plain": [
       "            visaChange  mcardChange\n",
       "date                               \n",
       "2019-03-18   -0.003216    -0.003374\n",
       "2019-03-19   -0.002388     0.002691\n",
       "2019-03-20   -0.005434    -0.004848\n",
       "2019-03-21    0.013333     0.026012\n",
       "2019-03-22   -0.017522    -0.021664"
      ]
     },
     "execution_count": 16,
     "metadata": {},
     "output_type": "execute_result"
    }
   ],
   "source": [
    "changes = pd.concat([visa['visaChange'], mcard['mcardChange']], axis=1)\n",
    "changes.tail()"
   ]
  },
  {
   "cell_type": "code",
   "execution_count": 17,
   "metadata": {},
   "outputs": [
    {
     "data": {
      "image/png": "[encoded data removed]",
      "text/plain": [
       "<Figure size 432x288 with 1 Axes>"
      ]
     },
     "metadata": {
      "needs_background": "light"
     },
     "output_type": "display_data"
    }
   ],
   "source": [
    "cardChanges = changes.plot()"
   ]
  },
  {
   "cell_type": "code",
   "execution_count": 18,
   "metadata": {},
   "outputs": [
    {
     "data": {
      "text/plain": [
       "[Text(0, 0, '-3 %'),\n",
       " Text(0, 0, '-2 %'),\n",
       " Text(0, 0, '-1 %'),\n",
       " Text(0, 0, '0 %'),\n",
       " Text(0, 0, '1 %'),\n",
       " Text(0, 0, '2 %'),\n",
       " Text(0, 0, '3 %')]"
      ]
     },
     "execution_count": 18,
     "metadata": {},
     "output_type": "execute_result"
    },
    {
     "data": {
      "image/png": "[encoded data removed]",
      "text/plain": [
       "<Figure size 432x288 with 1 Axes>"
      ]
     },
     "metadata": {
      "needs_background": "light"
     },
     "output_type": "display_data"
    }
   ],
   "source": [
    "cardChanges = changes['2017-01'].plot()\n",
    "cardChanges.set_ylabel('Muutos')\n",
    "\n",
    "vals = cardChanges.get_yticks()\n",
    "cardChanges.set_yticklabels(['{:.0f} %'.format(y*100) for y in vals])"
   ]
  },
  {
   "cell_type": "code",
   "execution_count": 19,
   "metadata": {},
   "outputs": [],
   "source": [
    "#avg int rate\n",
    "#remove index and column name\n",
    "#prateun=str(rateDf['Unemployment %'].to_string(index=False, header=False))\n",
    "#prateda=str(rateDf['Date'].to_string(index=False, header=False))\n",
    "\n",
    "#trace1 = go.Scatter(\n",
    "#     x = [prateda], \n",
    "#    y = [\"8\", \"3\", \"2\", \"10\", \"5\", \"5\", \"6\", \"8\", \"3\", \"3\", \"7\", \"5\", \"10\", \"10\", \"9\", \"14\"], \n",
    "#    name = \"var0\", \n",
    "#    text = [\"8\", \"3\", \"2\", \"10\", \"5\", \"5\", \"6\", \"8\", \"3\", \"3\", \"7\", \"5\", \"10\", \"10\", \"9\", \"14\"], \n",
    "#    yaxis = \"y\", \n",
    "#)"
   ]
  },
  {
   "cell_type": "markdown",
   "metadata": {
    "scrolled": true
   },
   "source": [
    "plotly.tools.set_credentials_file(username='matiplotly', api_key='0cMZ0jwPT00AfSrq5XZh')\n",
    "#avg int rate\n",
    "prateov=str(rateDf['Overall Avg. Int.Rate'].to_string(index=False, header=False))\n",
    "trace1 = go.Scatter(\n",
    "     x = [rate['Date']], \n",
    "    y = [prateov], \n",
    "    name = \"var0\", \n",
    "    text = [\"8\", \"3\", \"2\", \"10\", \"5\", \"5\", \"6\", \"8\", \"3\", \"3\", \"7\", \"5\", \"10\", \"10\", \"9\", \"14\"], \n",
    "    yaxis = \"y\", \n",
    ")\n",
    "\n",
    "trace2 = go.Scatter(\n",
    "    x = [\"2015-04-13\", \"2015-05-13\", \"2015-06-08\", \"2015-08-05\", \"2016-02-25\"], \n",
    "    y = [\"53.0\", \"69.0\", \"89.0\", \"41.0\", \"41.0\"], \n",
    "    name = \"var1\", \n",
    "    text = [\"53.0\", \"69.0\", \"89.0\", \"41.0\", \"41.0\"], \n",
    "    yaxis = \"y2\", \n",
    ")\n",
    "\n",
    "trace3 = go.Scatter(\n",
    "    x = [\"2013-01-29\", \"2013-02-26\", \"2013-04-19\", \"2013-07-02\", \"2013-08-27\", \"2013-10-22\",\n",
    "         \"2014-01-20\", \"2014-04-09\", \"2014-05-05\", \"2014-07-01\", \"2014-09-30\", \"2015-02-09\",\n",
    "         \"2015-04-13\", \"2015-06-08\", \"2016-02-25\"], \n",
    "    y = [\"9.6\", \"4.6\", \"2.7\", \"8.3\", \"18\", \"7.3\", \"3\", \"7.5\", \"1.0\", \"0.5\", \"2.8\", \"9.2\",\n",
    "        \"13\", \"5.8\", \"6.9\"], \n",
    "    name =  \"var2\", \n",
    "    text =  [\"9.6\", \"4.6\", \"2.7\", \"8.3\", \"18\", \"7.3\", \"3\", \"7.5\", \"1.0\", \"0.5\", \"2.8\", \"9.2\",\n",
    "            \"13\", \"5.8\", \"6.9\"], \n",
    "    yaxis = \"y3\",\n",
    ")\n",
    "\n",
    "trace4 = go.Scatter(\n",
    "    x = [\"2013-01-29\", \"2013-02-26\", \"2013-04-19\", \"2013-07-02\", \"2013-08-27\", \"2013-10-22\",\n",
    "         \"2014-01-20\", \"2014-04-09\", \"2014-05-05\", \"2014-07-01\", \"2014-09-30\", \"2015-02-09\",\n",
    "         \"2015-04-13\", \"2015-06-08\", \"2016-02-25\"], \n",
    "    y = [\"6.9\", \"7.5\", \"7.3\", \"7.3\", \"6.9\", \"7.1\", \"8\", \"7.8\", \"7.4\", \"7.9\", \"7.9\", \"7.6\",\n",
    "         \"7.2\", \"7.2\", \"8.0\"], \n",
    "    name = \"var3\", \n",
    "    text = [\"6.9\", \"7.5\", \"7.3\", \"7.3\", \"6.9\", \"7.1\", \"8\", \"7.8\", \"7.4\", \"7.9\", \"7.9\", \"7.6\",\n",
    "            \"7.2\", \"7.2\", \"8.0\"], \n",
    "    yaxis = \"y4\",\n",
    ")\n",
    "\n",
    "trace5 = go.Scatter(\n",
    "    x = [\"2013-02-26\", \"2013-07-02\", \"2013-09-26\", \"2013-10-22\", \"2013-12-04\", \"2014-01-02\",\n",
    "         \"2014-01-20\", \"2014-05-05\", \"2014-07-01\", \"2015-02-09\", \"2015-05-05\"], \n",
    "    y = [\"290\", \"1078\", \"263\", \"407\", \"660\", \"740\", \"33\", \"374\", \"95\", \"734\", \"3000\"], \n",
    "    name = \"var4\", \n",
    "    text = [\"290\", \"1078\", \"263\", \"407\", \"660\", \"740\", \"33\", \"374\", \"95\", \"734\", \"3000\"], \n",
    "    yaxis = \"y5\",\n",
    ")\n",
    "\n",
    "data = [trace1, trace2, trace3, trace4, trace5]\n",
    "\n",
    "# style all the traces\n",
    "for k in range(len(data)):\n",
    "    data[k].update(\n",
    "        {\n",
    "            \"hoverinfo\": \"name+x+text\",\n",
    "            \"line\": {\"width\": 0.5}, \n",
    "            \"marker\": {\"size\": 8},\n",
    "            \"mode\": \"lines+markers\",\n",
    "            \"showlegend\": False\n",
    "        }\n",
    "    )\n",
    "\n",
    "layout = {\n",
    "  \"annotations\": [\n",
    "    {\n",
    "      \"x\": \"2013-06-01\", \n",
    "      \"y\": 0, \n",
    "      \"arrowcolor\": \"rgba(63, 81, 181, 0.2)\", \n",
    "      \"arrowsize\": 0.3, \n",
    "      \"ax\": 0, \n",
    "      \"ay\": 30, \n",
    "      \"text\": \"state1\", \n",
    "      \"xref\": \"x\", \n",
    "      \"yanchor\": \"bottom\", \n",
    "      \"yref\": \"y\"\n",
    "    }, \n",
    "    {\n",
    "      \"x\": \"2014-09-13\", \n",
    "      \"y\": 0, \n",
    "      \"arrowcolor\": \"rgba(76, 175, 80, 0.1)\", \n",
    "      \"arrowsize\": 0.3, \n",
    "      \"ax\": 0,\n",
    "      \"ay\": 30,\n",
    "      \"text\": \"state2\",\n",
    "      \"xref\": \"x\", \n",
    "      \"yanchor\": \"bottom\", \n",
    "      \"yref\": \"y\"\n",
    "    }\n",
    "  ], \n",
    "  \"dragmode\": \"zoom\", \n",
    "  \"hovermode\": \"x\", \n",
    "  \"legend\": {\"traceorder\": \"reversed\"}, \n",
    "  \"margin\": {\n",
    "    \"t\": 100, \n",
    "    \"b\": 100\n",
    "  }, \n",
    "  \"shapes\": [\n",
    "    {\n",
    "      \"fillcolor\": \"rgba(63, 81, 181, 0.2)\", \n",
    "      \"line\": {\"width\": 0}, \n",
    "      \"type\": \"rect\", \n",
    "      \"x0\": \"2013-01-15\", \n",
    "      \"x1\": \"2013-10-17\", \n",
    "      \"xref\": \"x\", \n",
    "      \"y0\": 0, \n",
    "      \"y1\": 0.95, \n",
    "      \"yref\": \"paper\"\n",
    "    }, \n",
    "    {\n",
    "      \"fillcolor\": \"rgba(76, 175, 80, 0.1)\", \n",
    "      \"line\": {\"width\": 0}, \n",
    "      \"type\": \"rect\", \n",
    "      \"x0\": \"2013-10-22\", \n",
    "      \"x1\": \"2015-08-05\", \n",
    "      \"xref\": \"x\", \n",
    "      \"y0\": 0, \n",
    "      \"y1\": 0.95, \n",
    "      \"yref\": \"paper\"\n",
    "    }\n",
    "  ], \n",
    "  \"xaxis\": {\n",
    "    \"autorange\": True, \n",
    "    \"range\": [\"2012-10-31 18:36:37.3129\", \"2016-05-10 05:23:22.6871\"], \n",
    "    \"rangeslider\": {\n",
    "      \"autorange\": True, \n",
    "      \"range\": [\"2012-10-31 18:36:37.3129\", \"2016-05-10 05:23:22.6871\"]\n",
    "    }, \n",
    "    \"type\": \"date\"\n",
    "  }, \n",
    "  \"yaxis\": {\n",
    "    \"anchor\": \"x\", \n",
    "    \"autorange\": True, \n",
    "    \"domain\": [0, 0.2], \n",
    "    \"linecolor\": \"#673ab7\", \n",
    "    \"mirror\": True, \n",
    "    \"range\": [-60.0858369099, 28.4406294707], \n",
    "    \"showline\": True, \n",
    "    \"side\": \"right\", \n",
    "    \"tickfont\": {\"color\": \"#673ab7\"}, \n",
    "    \"tickmode\": \"auto\", \n",
    "    \"ticks\": \"\", \n",
    "    \"titlefont\": {\"color\": \"#673ab7\"}, \n",
    "    \"type\": \"linear\", \n",
    "    \"zeroline\": False\n",
    "  }, \n",
    "  \"yaxis2\": {\n",
    "    \"anchor\": \"x\", \n",
    "    \"autorange\": True, \n",
    "    \"domain\": [0.2, 0.4], \n",
    "    \"linecolor\": \"#E91E63\", \n",
    "    \"mirror\": True, \n",
    "    \"range\": [29.3787777032, 100.621222297], \n",
    "    \"showline\": True, \n",
    "    \"side\": \"right\", \n",
    "    \"tickfont\": {\"color\": \"#E91E63\"}, \n",
    "    \"tickmode\": \"auto\", \n",
    "    \"ticks\": \"\", \n",
    "    \"titlefont\": {\"color\": \"#E91E63\"}, \n",
    "    \"type\": \"linear\", \n",
    "    \"zeroline\": False\n",
    "  }, \n",
    "  \"yaxis3\": {\n",
    "    \"anchor\": \"x\", \n",
    "    \"autorange\": True, \n",
    "    \"domain\": [0.4, 0.6], \n",
    "    \"linecolor\": \"#795548\", \n",
    "    \"mirror\": True, \n",
    "    \"range\": [-3.73690396239, 22.2369039624], \n",
    "    \"showline\": True, \n",
    "    \"side\": \"right\", \n",
    "    \"tickfont\": {\"color\": \"#795548\"}, \n",
    "    \"tickmode\": \"auto\", \n",
    "    \"ticks\": \"\", \n",
    "    \"title\": \"mg/L\", \n",
    "    \"titlefont\": {\"color\": \"#795548\"}, \n",
    "    \"type\": \"linear\", \n",
    "    \"zeroline\": False\n",
    "  }, \n",
    "  \"yaxis4\": {\n",
    "    \"anchor\": \"x\", \n",
    "    \"autorange\": True, \n",
    "    \"domain\": [0.6, 0.8], \n",
    "    \"linecolor\": \"#607d8b\", \n",
    "    \"mirror\": True, \n",
    "    \"range\": [6.63368032236, 8.26631967764], \n",
    "    \"showline\": True, \n",
    "    \"side\": \"right\", \n",
    "    \"tickfont\": {\"color\": \"#607d8b\"}, \n",
    "    \"tickmode\": \"auto\", \n",
    "    \"ticks\": \"\", \n",
    "    \"title\": \"mmol/L\", \n",
    "    \"titlefont\": {\"color\": \"#607d8b\"}, \n",
    "    \"type\": \"linear\", \n",
    "    \"zeroline\": False\n",
    "  }, \n",
    "  \"yaxis5\": {\n",
    "    \"anchor\": \"x\", \n",
    "    \"autorange\": True, \n",
    "    \"domain\": [0.8, 1], \n",
    "    \"linecolor\": \"#2196F3\", \n",
    "    \"mirror\": True, \n",
    "    \"range\": [-685.336803224, 3718.33680322], \n",
    "    \"showline\": True, \n",
    "    \"side\": \"right\", \n",
    "    \"tickfont\": {\"color\": \"#2196F3\"}, \n",
    "    \"tickmode\": \"auto\",\n",
    "    \"ticks\": \"\", \n",
    "    \"title\": \"mg/Kg\", \n",
    "    \"titlefont\": {\"color\": \"#2196F3\"}, \n",
    "    \"type\": \"linear\", \n",
    "    \"zeroline\": False\n",
    "  }\n",
    "}\n",
    "fig = go.Figure(data=data, layout=layout)\n",
    "py.iplot(fig)\n"
   ]
  },
  {
   "cell_type": "code",
   "execution_count": 21,
   "metadata": {},
   "outputs": [
    {
     "data": {
      "text/html": [
       "<iframe id=\"igraph\" scrolling=\"no\" style=\"border:none;\" seamless=\"seamless\" src=\"https://plot.ly/~matiplotly/20.embed\" height=\"525px\" width=\"100%\"></iframe>"
      ],
      "text/plain": [
       "<plotly.tools.PlotlyDisplay object>"
      ]
     },
     "execution_count": 21,
     "metadata": {},
     "output_type": "execute_result"
    }
   ],
   "source": [
    "trace1 = go.Scatter(\n",
    "        x = list(visa.index),\n",
    "        y = list(visa['close']),\n",
    "        mode = 'lines+markers',\n",
    "        name = 'Visa closing stock price',\n",
    "        marker = dict(\n",
    "                color = 'blue'\n",
    "                )\n",
    "        )\n",
    "\n",
    "trace2 = go.Scatter(\n",
    "        x = list(mcard.index),\n",
    "        y = list(mcard['close']),\n",
    "        mode = 'lines+markers',\n",
    "        name = 'Mastercard closing stock price',\n",
    "        marker = dict(\n",
    "                color = 'orange'\n",
    "                )\n",
    "        )\n",
    "\n",
    "data = [trace1, trace2]\n",
    "\n",
    "layout = dict(\n",
    "    title='Credit card stock prices',\n",
    "    xaxis=dict(\n",
    "        rangeselector=dict(\n",
    "            buttons=list([\n",
    "                dict(count=1,\n",
    "                     label='1m',\n",
    "                     step='month',\n",
    "                     stepmode='backward'),\n",
    "                dict(count=6,\n",
    "                     label='6m',\n",
    "                     step='month',\n",
    "                     stepmode='backward'),\n",
    "                dict(count=1,\n",
    "                    label='YTD',\n",
    "                    step='year',\n",
    "                    stepmode='todate'),\n",
    "                dict(count=1,\n",
    "                    label='1y',\n",
    "                    step='year',\n",
    "                    stepmode='backward'),\n",
    "                dict(step='all')\n",
    "            ])\n",
    "        ),\n",
    "        rangeslider=dict(\n",
    "            visible = True\n",
    "        ),\n",
    "        type='date'\n",
    "    )\n",
    ")\n",
    "\n",
    "fig = dict(data=data, layout=layout)\n",
    "py.iplot(fig)"
   ]
  },
  {
   "cell_type": "markdown",
   "metadata": {},
   "source": [
    "Sources:\n",
    "https://thispointer.com/python-pandas-how-to-convert-lists-to-a-dataframe/\n",
    "https://pandas.pydata.org/pandas-docs/stable/user_guide/timeseries.html#timeseries-offset-aliases\n",
    "https://github.com/taanila/kurssi/blob/master/aikasarjat.ipynb\n",
    "https://stackoverflow.com/questions/35831496/key-error-when-selecting-columns-in-pandas-dataframe-after-read-csv/35831531\n",
    "https://stackoverflow.com/questions/31494870/pandas-dataframe-no-numeric-data-to-plot-error\n",
    "https://community.plot.ly/t/range-slider-date-with-multiple-traces/18617/2\n",
    "https://plot.ly/python/range-slider/"
   ]
  }
 ],
 "metadata": {
  "kernelspec": {
   "display_name": "Python 3",
   "language": "python",
   "name": "python3"
  },
  "language_info": {
   "codemirror_mode": {
    "name": "ipython",
    "version": 3
   },
   "file_extension": ".py",
   "mimetype": "text/x-python",
   "name": "python",
   "nbconvert_exporter": "python",
   "pygments_lexer": "ipython3",
   "version": "3.7.1"
  }
 },
 "nbformat": 4,
 "nbformat_minor": 2
}
