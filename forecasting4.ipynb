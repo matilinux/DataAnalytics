{
 "cells": [
  {
   "cell_type": "code",
   "execution_count": 1,
   "metadata": {},
   "outputs": [],
   "source": [
    "import numpy as np\n",
    "import pandas as pd\n",
    "import matplotlib.pyplot as plt\n",
    "import seaborn as sns\n",
    "%matplotlib inline\n",
    "import warnings\n",
    "warnings.filterwarnings('ignore')\n",
    "from sklearn.linear_model import LinearRegression"
   ]
  },
  {
   "cell_type": "code",
   "execution_count": 2,
   "metadata": {},
   "outputs": [
    {
     "data": {
      "text/html": [
       "<div>\n",
       "<style scoped>\n",
       "    .dataframe tbody tr th:only-of-type {\n",
       "        vertical-align: middle;\n",
       "    }\n",
       "\n",
       "    .dataframe tbody tr th {\n",
       "        vertical-align: top;\n",
       "    }\n",
       "\n",
       "    .dataframe thead th {\n",
       "        text-align: right;\n",
       "    }\n",
       "</style>\n",
       "<table border=\"1\" class=\"dataframe\">\n",
       "  <thead>\n",
       "    <tr style=\"text-align: right;\">\n",
       "      <th></th>\n",
       "      <th>date</th>\n",
       "      <th>open</th>\n",
       "      <th>high</th>\n",
       "      <th>low</th>\n",
       "      <th>close</th>\n",
       "      <th>volume</th>\n",
       "    </tr>\n",
       "  </thead>\n",
       "  <tbody>\n",
       "    <tr>\n",
       "      <th>0</th>\n",
       "      <td>2008-03-19</td>\n",
       "      <td>14.8750</td>\n",
       "      <td>17.2500</td>\n",
       "      <td>13.7500</td>\n",
       "      <td>14.1250</td>\n",
       "      <td>708486000</td>\n",
       "    </tr>\n",
       "    <tr>\n",
       "      <th>1</th>\n",
       "      <td>2008-03-20</td>\n",
       "      <td>14.6175</td>\n",
       "      <td>16.2500</td>\n",
       "      <td>14.3750</td>\n",
       "      <td>16.0875</td>\n",
       "      <td>198985200</td>\n",
       "    </tr>\n",
       "    <tr>\n",
       "      <th>2</th>\n",
       "      <td>2008-03-24</td>\n",
       "      <td>16.8100</td>\n",
       "      <td>16.9250</td>\n",
       "      <td>14.7500</td>\n",
       "      <td>14.9325</td>\n",
       "      <td>149566400</td>\n",
       "    </tr>\n",
       "    <tr>\n",
       "      <th>3</th>\n",
       "      <td>2008-03-25</td>\n",
       "      <td>15.1575</td>\n",
       "      <td>16.0625</td>\n",
       "      <td>14.9550</td>\n",
       "      <td>15.8125</td>\n",
       "      <td>87092000</td>\n",
       "    </tr>\n",
       "    <tr>\n",
       "      <th>4</th>\n",
       "      <td>2008-03-26</td>\n",
       "      <td>15.6250</td>\n",
       "      <td>16.1200</td>\n",
       "      <td>15.3925</td>\n",
       "      <td>15.9900</td>\n",
       "      <td>43111600</td>\n",
       "    </tr>\n",
       "  </tbody>\n",
       "</table>\n",
       "</div>"
      ],
      "text/plain": [
       "         date     open     high      low    close     volume\n",
       "0  2008-03-19  14.8750  17.2500  13.7500  14.1250  708486000\n",
       "1  2008-03-20  14.6175  16.2500  14.3750  16.0875  198985200\n",
       "2  2008-03-24  16.8100  16.9250  14.7500  14.9325  149566400\n",
       "3  2008-03-25  15.1575  16.0625  14.9550  15.8125   87092000\n",
       "4  2008-03-26  15.6250  16.1200  15.3925  15.9900   43111600"
      ]
     },
     "execution_count": 2,
     "metadata": {},
     "output_type": "execute_result"
    }
   ],
   "source": [
    "visa=pd.read_csv('excel/visa.csv')\n",
    "visa.head()"
   ]
  },
  {
   "cell_type": "markdown",
   "metadata": {},
   "source": [
    "is there correlation between daily volume and daily profit\n",
    "https://github.com/taanila/kurssi/blob/master/linreg1.ipynb"
   ]
  },
  {
   "cell_type": "markdown",
   "metadata": {},
   "source": [
    "profit=[]\n",
    "for profits in visa['open'], visa['close']:\n",
    "    visa['open']-visa['close']\n",
    "    profit.append(profits)\n",
    "    \n",
    "profit"
   ]
  },
  {
   "cell_type": "code",
   "execution_count": 3,
   "metadata": {},
   "outputs": [
    {
     "data": {
      "text/plain": [
       "0   -0.7500\n",
       "1    1.4700\n",
       "2   -1.8775\n",
       "3    0.6550\n",
       "4    0.3650\n",
       "Name: profit, dtype: float64"
      ]
     },
     "execution_count": 3,
     "metadata": {},
     "output_type": "execute_result"
    }
   ],
   "source": [
    "#count open price subtract by close price\n",
    "visaM=visa['close']-visa['open']\n",
    "#do a pandas DF from profit column\n",
    "visaM=pd.DataFrame(visaM, index=visa.index)\n",
    "#add name for profit column\n",
    "visaM.columns=['profit']\n",
    "visaM['profit'].head()"
   ]
  },
  {
   "cell_type": "code",
   "execution_count": 4,
   "metadata": {},
   "outputs": [],
   "source": [
    "x=visa['volume'].to_frame()  #feature-matriisi X\n",
    "y=visaM['profit'] #target eli selitettävä muuttuja eli y-muuttuja"
   ]
  },
  {
   "cell_type": "code",
   "execution_count": 5,
   "metadata": {},
   "outputs": [
    {
     "data": {
      "text/plain": [
       "LinearRegression(copy_X=True, fit_intercept=True, n_jobs=None,\n",
       "         normalize=False)"
      ]
     },
     "execution_count": 5,
     "metadata": {},
     "output_type": "execute_result"
    }
   ],
   "source": [
    "malli = LinearRegression()\n",
    "malli.fit(x,y)"
   ]
  },
  {
   "cell_type": "code",
   "execution_count": 6,
   "metadata": {},
   "outputs": [
    {
     "name": "stdout",
     "output_type": "stream",
     "text": [
      "[-7.02112698e-10]\n",
      "0.026061638599750976\n",
      "0.00041345391339553395\n"
     ]
    }
   ],
   "source": [
    "print(malli.coef_) #kulmakerroin\n",
    "print(malli.intercept_) #vakiotermi\n",
    "print(malli.score(x,y)) #selityskerroin"
   ]
  },
  {
   "cell_type": "code",
   "execution_count": 7,
   "metadata": {},
   "outputs": [],
   "source": [
    "visa=visa.join(visaM)"
   ]
  },
  {
   "cell_type": "code",
   "execution_count": 10,
   "metadata": {},
   "outputs": [
    {
     "data": {
      "text/plain": [
       "<seaborn.axisgrid.JointGrid at 0x7fddd00d2160>"
      ]
     },
     "execution_count": 10,
     "metadata": {},
     "output_type": "execute_result"
    },
    {
     "data": {
      "image/png": "[encoded data removed]",
      "text/plain": [
       "<Figure size 936x936 with 3 Axes>"
      ]
     },
     "metadata": {
      "needs_background": "light"
     },
     "output_type": "display_data"
    }
   ],
   "source": [
    "sns.jointplot(data=visa, x='volume', y='profit', kind='reg', size=13)"
   ]
  },
  {
   "cell_type": "code",
   "execution_count": 9,
   "metadata": {},
   "outputs": [
    {
     "data": {
      "text/plain": [
       "array([0.02606164, 0.02606164, 0.02606164])"
      ]
     },
     "execution_count": 9,
     "metadata": {},
     "output_type": "execute_result"
    }
   ],
   "source": [
    "malli.predict(pd.DataFrame([0.7, 0.8, 0.9]))"
   ]
  },
  {
   "cell_type": "markdown",
   "metadata": {},
   "source": [
    "https://medium.com/open-machine-learning-course/open-machine-learning-course-topic-9-time-series-analysis-in-python-a270cb05e0b3\n",
    "https://stackoverflow.com/questions/41535322/setting-freq-of-pandas-datetimeindex-after-dataframe-creation\n",
    "https://github.com/taanila/kurssi\n",
    "https://pandas.pydata.org/pandas-docs/stable/reference/api/pandas.DataFrame.dropna.html\n",
    "https://stackoverflow.com/questions/20602947/append-column-to-pandas-dataframe\n",
    "https://stackoverflow.com/questions/26163702/how-to-change-figuresize-using-seaborn-factorplot"
   ]
  },
  {
   "cell_type": "code",
   "execution_count": null,
   "metadata": {},
   "outputs": [],
   "source": []
  }
 ],
 "metadata": {
  "kernelspec": {
   "display_name": "Python 3",
   "language": "python",
   "name": "python3"
  },
  "language_info": {
   "codemirror_mode": {
    "name": "ipython",
    "version": 3
   },
   "file_extension": ".py",
   "mimetype": "text/x-python",
   "name": "python",
   "nbconvert_exporter": "python",
   "pygments_lexer": "ipython3",
   "version": "3.7.1"
  }
 },
 "nbformat": 4,
 "nbformat_minor": 2
}
