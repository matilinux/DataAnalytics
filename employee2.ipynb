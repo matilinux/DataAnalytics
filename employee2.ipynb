{
 "cells": [
  {
   "cell_type": "code",
   "execution_count": 1,
   "metadata": {},
   "outputs": [
    {
     "data": {
      "text/plain": [
       "(277, 35)"
      ]
     },
     "execution_count": 1,
     "metadata": {},
     "output_type": "execute_result"
    }
   ],
   "source": [
    "import pandas as pd\n",
    "import matplotlib.pyplot as plt\n",
    "%matplotlib inline\n",
    "df = pd.read_csv('excel/employee.csv')\n",
    "traveller = df[(df['BusinessTravel']=='Travel_Frequently')]\n",
    "traveller.shape"
   ]
  },
  {
   "cell_type": "code",
   "execution_count": 2,
   "metadata": {
    "scrolled": false
   },
   "outputs": [
    {
     "data": {
      "text/plain": [
       "(117,)"
      ]
     },
     "execution_count": 2,
     "metadata": {},
     "output_type": "execute_result"
    }
   ],
   "source": [
    "females = df[(df['BusinessTravel']=='Travel_Frequently') & (df['Gender']=='Female')] \n",
    "females['Gender'].shape"
   ]
  },
  {
   "cell_type": "code",
   "execution_count": 3,
   "metadata": {},
   "outputs": [],
   "source": [
    "#Can't figure out the \"or\" condition\n",
    "#single = df[(df['BusinessTravel']=='Travel_Frequently') & (df['MaritalStatus']=={'Single'} | {'Divorced'})]\n",
    "#single"
   ]
  },
  {
   "cell_type": "code",
   "execution_count": 4,
   "metadata": {
    "scrolled": false
   },
   "outputs": [
    {
     "data": {
      "text/plain": [
       "(159, 2)"
      ]
     },
     "execution_count": 4,
     "metadata": {},
     "output_type": "execute_result"
    }
   ],
   "source": [
    "single = traveller[(traveller['MaritalStatus']!='Married')]\n",
    "single[['BusinessTravel','MaritalStatus']].shape"
   ]
  },
  {
   "cell_type": "code",
   "execution_count": 5,
   "metadata": {
    "scrolled": false
   },
   "outputs": [
    {
     "name": "stderr",
     "output_type": "stream",
     "text": [
      "/home/matias/anaconda3/lib/python3.7/site-packages/ipykernel_launcher.py:1: SettingWithCopyWarning: \n",
      "A value is trying to be set on a copy of a slice from a DataFrame.\n",
      "Try using .loc[row_indexer,col_indexer] = value instead\n",
      "\n",
      "See the caveats in the documentation: http://pandas.pydata.org/pandas-docs/stable/indexing.html#indexing-view-versus-copy\n",
      "  \"\"\"Entry point for launching an IPython kernel.\n"
     ]
    },
    {
     "data": {
      "text/plain": [
       "(159, 2)"
      ]
     },
     "execution_count": 5,
     "metadata": {},
     "output_type": "execute_result"
    }
   ],
   "source": [
    "single['mstatus'] = single['MaritalStatus'].replace({'Divorced' : 'single'})\n",
    "single[['BusinessTravel','mstatus']].shape"
   ]
  },
  {
   "cell_type": "code",
   "execution_count": 6,
   "metadata": {},
   "outputs": [
    {
     "name": "stderr",
     "output_type": "stream",
     "text": [
      "/home/matias/anaconda3/lib/python3.7/site-packages/ipykernel_launcher.py:2: SettingWithCopyWarning: \n",
      "A value is trying to be set on a copy of a slice from a DataFrame.\n",
      "Try using .loc[row_indexer,col_indexer] = value instead\n",
      "\n",
      "See the caveats in the documentation: http://pandas.pydata.org/pandas-docs/stable/indexing.html#indexing-view-versus-copy\n",
      "  \n"
     ]
    },
    {
     "data": {
      "text/plain": [
       "(159, 2)"
      ]
     },
     "execution_count": 6,
     "metadata": {},
     "output_type": "execute_result"
    }
   ],
   "source": [
    "bins = [15, 20, 30, 40, 50, 60, 70]\n",
    "single['ageFilter'] = pd.cut(df['Age'], bins = bins)\n",
    "single[['ageFilter', 'Age']].sort_values(by='ageFilter').shape\n"
   ]
  },
  {
   "cell_type": "code",
   "execution_count": 25,
   "metadata": {
    "scrolled": true
   },
   "outputs": [
    {
     "data": {
      "text/html": [
       "<style  type=\"text/css\" >\n",
       "</style>  \n",
       "<table id=\"T_6948532a_2fe3_11e9_891b_39cfd02382bf\" > \n",
       "<thead>    <tr> \n",
       "        <th class=\"index_name level0\" >JobSatisfaction</th> \n",
       "        <th class=\"col_heading level0 col0\" >pcs</th> \n",
       "        <th class=\"col_heading level0 col1\" >%</th> \n",
       "    </tr></thead> \n",
       "<tbody>    <tr> \n",
       "        <th id=\"T_6948532a_2fe3_11e9_891b_39cfd02382bflevel0_row0\" class=\"row_heading level0 row0\" >Hating my job</th> \n",
       "        <td id=\"T_6948532a_2fe3_11e9_891b_39cfd02382bfrow0_col0\" class=\"data row0 col0\" >289</td> \n",
       "        <td id=\"T_6948532a_2fe3_11e9_891b_39cfd02382bfrow0_col1\" class=\"data row0 col1\" >19.66%</td> \n",
       "    </tr>    <tr> \n",
       "        <th id=\"T_6948532a_2fe3_11e9_891b_39cfd02382bflevel0_row1\" class=\"row_heading level0 row1\" >Not happy</th> \n",
       "        <td id=\"T_6948532a_2fe3_11e9_891b_39cfd02382bfrow1_col0\" class=\"data row1 col0\" >280</td> \n",
       "        <td id=\"T_6948532a_2fe3_11e9_891b_39cfd02382bfrow1_col1\" class=\"data row1 col1\" >19.05%</td> \n",
       "    </tr>    <tr> \n",
       "        <th id=\"T_6948532a_2fe3_11e9_891b_39cfd02382bflevel0_row2\" class=\"row_heading level0 row2\" >Happy</th> \n",
       "        <td id=\"T_6948532a_2fe3_11e9_891b_39cfd02382bfrow2_col0\" class=\"data row2 col0\" >442</td> \n",
       "        <td id=\"T_6948532a_2fe3_11e9_891b_39cfd02382bfrow2_col1\" class=\"data row2 col1\" >30.07%</td> \n",
       "    </tr>    <tr> \n",
       "        <th id=\"T_6948532a_2fe3_11e9_891b_39cfd02382bflevel0_row3\" class=\"row_heading level0 row3\" >Very happy</th> \n",
       "        <td id=\"T_6948532a_2fe3_11e9_891b_39cfd02382bfrow3_col0\" class=\"data row3 col0\" >459</td> \n",
       "        <td id=\"T_6948532a_2fe3_11e9_891b_39cfd02382bfrow3_col1\" class=\"data row3 col1\" >31.22%</td> \n",
       "    </tr></tbody> \n",
       "</table> "
      ],
      "text/plain": [
       "<pandas.io.formats.style.Styler at 0x7fcefee0c710>"
      ]
     },
     "execution_count": 25,
     "metadata": {},
     "output_type": "execute_result"
    }
   ],
   "source": [
    "jobSatisfaction=['Hating my job','Not happy','Happy','Very happy']\n",
    "chart=pd.crosstab(df['JobSatisfaction'], 'pcs')\n",
    "chart.index=jobSatisfaction\n",
    "chart.columns.name='JobSatisfaction'\n",
    "chart['%']=chart/chart.sum()\n",
    "chart.style.format({'%': '{:.2%}'})"
   ]
  },
  {
   "cell_type": "code",
   "execution_count": 26,
   "metadata": {},
   "outputs": [
    {
     "data": {
      "text/plain": [
       "Text(0, 0.5, 'Scale Of Happiness')"
      ]
     },
     "execution_count": 26,
     "metadata": {},
     "output_type": "execute_result"
    },
    {
     "data": {
      "image/png": "[encoded data removed]",
      "text/plain": [
       "<Figure size 432x288 with 1 Axes>"
      ]
     },
     "metadata": {
      "needs_background": "light"
     },
     "output_type": "display_data"
    }
   ],
   "source": [
    "chart2 = chart['%'].plot.barh(color = 'C6')\n",
    "vals = chart2.get_xticks()\n",
    "chart2.set_xticklabels(['{:.0%}'.format(x) for x in vals])\n",
    "plt.xlabel('Of Employees Are Happy W/ Their Job')\n",
    "plt.ylabel('Scale Of Happiness')"
   ]
  },
  {
   "cell_type": "code",
   "execution_count": 30,
   "metadata": {},
   "outputs": [
    {
     "ename": "TypeError",
     "evalue": "'AxesSubplot' object is not subscriptable",
     "output_type": "error",
     "traceback": [
      "\u001b[0;31m---------------------------------------------------------------------------\u001b[0m",
      "\u001b[0;31mTypeError\u001b[0m                                 Traceback (most recent call last)",
      "\u001b[0;32m<ipython-input-30-6e19ee5ccc80>\u001b[0m in \u001b[0;36m<module>\u001b[0;34m\u001b[0m\n\u001b[1;32m      2\u001b[0m \u001b[0mvals\u001b[0m \u001b[0;34m=\u001b[0m \u001b[0mchart2\u001b[0m\u001b[0;34m.\u001b[0m\u001b[0mget_xticks\u001b[0m\u001b[0;34m(\u001b[0m\u001b[0;34m)\u001b[0m\u001b[0;34m\u001b[0m\u001b[0;34m\u001b[0m\u001b[0m\n\u001b[1;32m      3\u001b[0m \u001b[0;34m\u001b[0m\u001b[0m\n\u001b[0;32m----> 4\u001b[0;31m \u001b[0;32mfor\u001b[0m \u001b[0mi\u001b[0m \u001b[0;32min\u001b[0m \u001b[0mrange\u001b[0m\u001b[0;34m(\u001b[0m\u001b[0mlen\u001b[0m\u001b[0;34m(\u001b[0m\u001b[0mchart2\u001b[0m\u001b[0;34m[\u001b[0m\u001b[0;34m'JobSatisfaction'\u001b[0m\u001b[0;34m]\u001b[0m\u001b[0;34m)\u001b[0m\u001b[0;34m)\u001b[0m\u001b[0;34m:\u001b[0m\u001b[0;34m\u001b[0m\u001b[0;34m\u001b[0m\u001b[0m\n\u001b[0m\u001b[1;32m      5\u001b[0m     \u001b[0mplt\u001b[0m\u001b[0;34m.\u001b[0m\u001b[0mtext\u001b[0m\u001b[0;34m(\u001b[0m\u001b[0mx\u001b[0m \u001b[0;34m=\u001b[0m \u001b[0mchart2\u001b[0m\u001b[0;34m[\u001b[0m\u001b[0mi\u001b[0m\u001b[0;34m]\u001b[0m\u001b[0;34m-\u001b[0m\u001b[0;36m0.5\u001b[0m \u001b[0;34m,\u001b[0m \u001b[0my\u001b[0m \u001b[0;34m=\u001b[0m \u001b[0mchart2\u001b[0m\u001b[0;34m[\u001b[0m\u001b[0mi\u001b[0m\u001b[0;34m]\u001b[0m\u001b[0;34m+\u001b[0m\u001b[0;36m0.1\u001b[0m\u001b[0;34m,\u001b[0m \u001b[0ms\u001b[0m \u001b[0;34m=\u001b[0m \u001b[0mchart2\u001b[0m\u001b[0;34m[\u001b[0m\u001b[0;34m'pcs'\u001b[0m\u001b[0;34m]\u001b[0m\u001b[0;34m[\u001b[0m\u001b[0mi\u001b[0m\u001b[0;34m]\u001b[0m\u001b[0;34m,\u001b[0m \u001b[0msize\u001b[0m \u001b[0;34m=\u001b[0m \u001b[0;36m6\u001b[0m\u001b[0;34m)\u001b[0m\u001b[0;34m\u001b[0m\u001b[0;34m\u001b[0m\u001b[0m\n\u001b[1;32m      6\u001b[0m \u001b[0;34m\u001b[0m\u001b[0m\n",
      "\u001b[0;31mTypeError\u001b[0m: 'AxesSubplot' object is not subscriptable"
     ]
    },
    {
     "data": {
      "image/png": "[encoded data removed]",
      "text/plain": [
       "<Figure size 432x288 with 1 Axes>"
      ]
     },
     "metadata": {
      "needs_background": "light"
     },
     "output_type": "display_data"
    }
   ],
   "source": [
    "chart2 = chart['%'].plot.barh(color = 'C6')\n",
    "vals = chart2.get_xticks()\n",
    "\n",
    "for i in range(len(chart2['JobSatisfaction'])):\n",
    "    plt.text(x = chart2[i]-0.5 , y = chart2[i]+0.1, s = chart2['pcs'][i], size = 6)\n",
    "\n",
    "\n",
    "chart2.set_xticklabels(['{:.0%}'.format(x) for x in vals])\n",
    "plt.xlabel('Of Employees Are Happy W/ Their Job')\n",
    "plt.ylabel('Scale Of Happiness')"
   ]
  },
  {
   "cell_type": "code",
   "execution_count": 22,
   "metadata": {},
   "outputs": [
    {
     "data": {
      "text/plain": [
       "JobSatisfaction\n",
       "1    289\n",
       "2    280\n",
       "3    442\n",
       "4    459\n",
       "Name: pcs, dtype: int64"
      ]
     },
     "execution_count": 22,
     "metadata": {},
     "output_type": "execute_result"
    }
   ],
   "source": [
    "chart['pcs']"
   ]
  },
  {
   "cell_type": "code",
   "execution_count": null,
   "metadata": {},
   "outputs": [],
   "source": []
  },
  {
   "cell_type": "code",
   "execution_count": null,
   "metadata": {},
   "outputs": [],
   "source": []
  },
  {
   "cell_type": "code",
   "execution_count": null,
   "metadata": {},
   "outputs": [],
   "source": []
  },
  {
   "cell_type": "code",
   "execution_count": null,
   "metadata": {},
   "outputs": [],
   "source": []
  },
  {
   "cell_type": "code",
   "execution_count": null,
   "metadata": {},
   "outputs": [],
   "source": []
  },
  {
   "cell_type": "code",
   "execution_count": null,
   "metadata": {},
   "outputs": [],
   "source": []
  }
 ],
 "metadata": {
  "kernelspec": {
   "display_name": "Python 3",
   "language": "python",
   "name": "python3"
  },
  "language_info": {
   "codemirror_mode": {
    "name": "ipython",
    "version": 3
   },
   "file_extension": ".py",
   "mimetype": "text/x-python",
   "name": "python",
   "nbconvert_exporter": "python",
   "pygments_lexer": "ipython3",
   "version": "3.7.1"
  }
 },
 "nbformat": 4,
 "nbformat_minor": 2
}
