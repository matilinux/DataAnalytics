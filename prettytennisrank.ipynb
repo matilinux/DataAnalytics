{
 "cells": [
  {
   "cell_type": "code",
   "execution_count": 5,
   "metadata": {},
   "outputs": [],
   "source": [
    "from bs4 import BeautifulSoup as bs\n",
    "import requests\n",
    "import json\n",
    "\n",
    "url = 'https://www.livetulokset.com/tennis/maailmanlistat/atp/'\n",
    "response = requests.get(url)\n",
    "content = bs(response.content, \"html.parser\")"
   ]
  },
  {
   "cell_type": "code",
   "execution_count": 6,
   "metadata": {},
   "outputs": [],
   "source": [
    "#ranks contains every rank\n",
    "ranks = []\n",
    "for rank in content.findAll('td', attrs={\"class\": \"rank-column-rank\"})[1:]:\n",
    "    ranks.append(rank.string)\n",
    "\n",
    "#names contains every player name (not very longlasting solution)\n",
    "names = []\n",
    "for name in content.findAll('a')[51:733]:\n",
    "    names.append(name.string)"
   ]
  },
  {
   "cell_type": "code",
   "execution_count": 8,
   "metadata": {},
   "outputs": [],
   "source": [
    "#converts both lists into a \n",
    "data = [{'Rank': ranks, 'Player': names} for ranks, names in zip(ranks, names)]\n",
    "with open('abcdef.json', 'w') as outfile:\n",
    "    json.dump(data, outfile, indent=4)"
   ]
  },
  {
   "cell_type": "code",
   "execution_count": 4,
   "metadata": {},
   "outputs": [],
   "source": []
  },
  {
   "cell_type": "code",
   "execution_count": null,
   "metadata": {},
   "outputs": [],
   "source": []
  }
 ],
 "metadata": {
  "kernelspec": {
   "display_name": "Python 3",
   "language": "python",
   "name": "python3"
  },
  "language_info": {
   "codemirror_mode": {
    "name": "ipython",
    "version": 3
   },
   "file_extension": ".py",
   "mimetype": "text/x-python",
   "name": "python",
   "nbconvert_exporter": "python",
   "pygments_lexer": "ipython3",
   "version": "3.7.1"
  }
 },
 "nbformat": 4,
 "nbformat_minor": 2
}
